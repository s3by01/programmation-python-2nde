{
 "cells": [
  {
   "cell_type": "code",
   "execution_count": 8,
   "metadata": {},
   "outputs": [
    {
     "name": "stdout",
     "output_type": "stream",
     "text": [
      "20\n",
      "40\n",
      "60\n",
      "80\n",
      "100\n",
      "120\n",
      "140\n",
      "160\n",
      "180\n",
      "280\n"
     ]
    }
   ],
   "source": [
    "prix, m = 0, 0\n",
    "while m<9:\n",
    "    prix=prix+20\n",
    "    m=m+1\n",
    "    print(prix)\n",
    "prix=prix+100    \n",
    "print(prix)"
   ]
  },
  {
   "cell_type": "code",
   "execution_count": 9,
   "metadata": {},
   "outputs": [
    {
     "name": "stdout",
     "output_type": "stream",
     "text": [
      "32\n"
     ]
    }
   ],
   "source": [
    "p=1\n",
    "prix=100\n",
    "while prix<=700:\n",
    "    prix=prix+20\n",
    "    p=p+1\n",
    "print(p)"
   ]
  },
  {
   "cell_type": "code",
   "execution_count": 14,
   "metadata": {},
   "outputs": [
    {
     "name": "stdout",
     "output_type": "stream",
     "text": [
      "12 28\n"
     ]
    }
   ],
   "source": [
    "from random import randint\n",
    "s=0\n",
    "n=1\n",
    "while s!=12:\n",
    "    de1=randint(1,6)\n",
    "    de2=randint(1,6)\n",
    "    s=de1+de2\n",
    "    n=n+1\n",
    "print(s,n)"
   ]
  },
  {
   "cell_type": "code",
   "execution_count": 22,
   "metadata": {},
   "outputs": [
    {
     "name": "stdout",
     "output_type": "stream",
     "text": [
      "0.0 9.2 11.5\n"
     ]
    }
   ],
   "source": [
    "x,y,z=5,2.3,0\n",
    "while x!=0:\n",
    "    if x %2 ==0:\n",
    "        x=x/2\n",
    "        y=2*y\n",
    "    else:\n",
    "        x=x-1\n",
    "        z=z+y\n",
    "print(x,y,z)"
   ]
  },
  {
   "cell_type": "code",
   "execution_count": 26,
   "metadata": {},
   "outputs": [
    {
     "name": "stdout",
     "output_type": "stream",
     "text": [
      "0.0\n"
     ]
    }
   ],
   "source": [
    "n=5.3\n",
    "n=n//10\n",
    "print(n)"
   ]
  },
  {
   "cell_type": "code",
   "execution_count": 31,
   "metadata": {},
   "outputs": [
    {
     "name": "stdout",
     "output_type": "stream",
     "text": [
      "16 1\n"
     ]
    }
   ],
   "source": [
    "n=330\n",
    "if n%10!=0:\n",
    "    print(\"Impossible\")\n",
    "else:\n",
    "    i=0\n",
    "    while n>=20:\n",
    "        n,i=n-20, i+1\n",
    "    billets_20=i\n",
    "    billets_10=n//10\n",
    "print(billets_20, billets_10)"
   ]
  },
  {
   "cell_type": "code",
   "execution_count": 29,
   "metadata": {},
   "outputs": [
    {
     "name": "stdout",
     "output_type": "stream",
     "text": [
      "0\n"
     ]
    }
   ],
   "source": [
    "n=330\n",
    "print(n%10)"
   ]
  },
  {
   "cell_type": "code",
   "execution_count": null,
   "metadata": {},
   "outputs": [],
   "source": []
  }
 ],
 "metadata": {
  "kernelspec": {
   "display_name": "Python 3",
   "language": "python",
   "name": "python3"
  },
  "language_info": {
   "codemirror_mode": {
    "name": "ipython",
    "version": 3
   },
   "file_extension": ".py",
   "mimetype": "text/x-python",
   "name": "python",
   "nbconvert_exporter": "python",
   "pygments_lexer": "ipython3",
   "version": "3.6.5"
  }
 },
 "nbformat": 4,
 "nbformat_minor": 2
}
