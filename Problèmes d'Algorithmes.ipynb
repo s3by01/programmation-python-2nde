{
 "cells": [
  {
   "cell_type": "code",
   "execution_count": 7,
   "metadata": {},
   "outputs": [
    {
     "name": "stdout",
     "output_type": "stream",
     "text": [
      "Combien de kilomètres avait-vou parcoururs aujourd'hui? 100\n",
      "75.0 €\n"
     ]
    }
   ],
   "source": [
    "m=0\n",
    "x = int(input(\"Combien de kilomètres avait-vou parcoururs aujourd'hui? \"))\n",
    "if x<= 100:\n",
    "    m=50+0.25*x\n",
    "else:\n",
    "    m=40+0.35*x\n",
    "print(m, \"€\")"
   ]
  },
  {
   "cell_type": "code",
   "execution_count": 13,
   "metadata": {},
   "outputs": [
    {
     "name": "stdout",
     "output_type": "stream",
     "text": [
      "Entrer n:\n",
      "4\n",
      "S=  2 j=  1\n",
      "S=  6 j=  2\n",
      "S=  12 j=  3\n",
      "S=  20 j=  4\n"
     ]
    }
   ],
   "source": [
    "print (\"Entrer n:\")\n",
    "n=int(input())\n",
    "S=0\n",
    "for j in range (1,n+1):\n",
    "    S=S+2*j\n",
    "    print(\"S= \", S, 'j= ', j)"
   ]
  },
  {
   "cell_type": "code",
   "execution_count": 17,
   "metadata": {},
   "outputs": [
    {
     "name": "stdout",
     "output_type": "stream",
     "text": [
      "35\n"
     ]
    }
   ],
   "source": [
    "n=0\n",
    "r=250\n",
    "while r > 125:\n",
    "    r=0.98*r\n",
    "    n=n+1\n",
    "print(n)"
   ]
  },
  {
   "cell_type": "code",
   "execution_count": null,
   "metadata": {},
   "outputs": [],
   "source": []
  }
 ],
 "metadata": {
  "kernelspec": {
   "display_name": "Python 3",
   "language": "python",
   "name": "python3"
  },
  "language_info": {
   "codemirror_mode": {
    "name": "ipython",
    "version": 3
   },
   "file_extension": ".py",
   "mimetype": "text/x-python",
   "name": "python",
   "nbconvert_exporter": "python",
   "pygments_lexer": "ipython3",
   "version": "3.6.5"
  }
 },
 "nbformat": 4,
 "nbformat_minor": 2
}
