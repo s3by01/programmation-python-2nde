{
 "cells": [
  {
   "cell_type": "markdown",
   "metadata": {},
   "source": [
    "# Une aide au choix d'un forfait telephonique"
   ]
  },
  {
   "cell_type": "code",
   "execution_count": 1,
   "metadata": {},
   "outputs": [
    {
     "name": "stdout",
     "output_type": "stream",
     "text": [
      "Entrez combien de minutes d'appel vous avez utlisés 462266\n",
      "Entrez combien de Mo de données vous utilisez 26452\n",
      "25221.460000000003 €\n"
     ]
    }
   ],
   "source": [
    "t=input(\"Entrez combien de minutes d'appel vous avez utlisés \")\n",
    "d=input(\"Entrez combien de Mo de données vous utilisez \")\n",
    "t=int(t)\n",
    "d=int(d)\n",
    "q=0\n",
    "p=0\n",
    "if t>120:\n",
    "    p=0.05*t-4\n",
    "else:\n",
    "    p=2\n",
    "if d>50:\n",
    "    q=0.08*d-4\n",
    "else:\n",
    "    q=0\n",
    "print(q+p,\"€\")"
   ]
  }
 ],
 "metadata": {
  "kernelspec": {
   "display_name": "Python 3",
   "language": "python",
   "name": "python3"
  },
  "language_info": {
   "codemirror_mode": {
    "name": "ipython",
    "version": 3
   },
   "file_extension": ".py",
   "mimetype": "text/x-python",
   "name": "python",
   "nbconvert_exporter": "python",
   "pygments_lexer": "ipython3",
   "version": "3.6.5"
  }
 },
 "nbformat": 4,
 "nbformat_minor": 2
}
