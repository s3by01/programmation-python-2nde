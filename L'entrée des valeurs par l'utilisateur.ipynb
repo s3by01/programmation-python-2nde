{
 "cells": [
  {
   "cell_type": "code",
   "execution_count": null,
   "metadata": {},
   "outputs": [],
   "source": [
    "from math import*\n",
    "x = eval(input(\"Entrer une valeur de x non nulle :\"))\n",
    "y = 3/x+1\n",
    "print(y)"
   ]
  },
  {
   "cell_type": "code",
   "execution_count": 2,
   "metadata": {},
   "outputs": [
    {
     "name": "stdout",
     "output_type": "stream",
     "text": [
      "Quel age avez vous ? 51\n",
      "Quel est le prix de la monture ? 300\n",
      "147.0\n"
     ]
    }
   ],
   "source": [
    "age = int(input(\"Quel age avez vous ? \"))\n",
    "prix_initial = float(input(\"Quel est le prix de la monture ? \"))\n",
    "prix_reduit = prix_initial*(1-age/100)\n",
    "print(prix_reduit)"
   ]
  },
  {
   "cell_type": "code",
   "execution_count": 5,
   "metadata": {},
   "outputs": [
    {
     "name": "stdout",
     "output_type": "stream",
     "text": [
      "Quel est la vitesse du véhicule 50\n",
      "28.88888888888889\n"
     ]
    }
   ],
   "source": [
    "v = int(input(\"Quel est la vitesse du véhicule \"))\n",
    "d = 0.006*v**2+5/18*v\n",
    "print(d)"
   ]
  },
  {
   "cell_type": "code",
   "execution_count": 6,
   "metadata": {},
   "outputs": [
    {
     "name": "stdout",
     "output_type": "stream",
     "text": [
      "Entrer l'abscisse de A : sqrt(2)\n",
      "Entrer l'ordonnée de A : 1/3\n",
      "Entrer l'abscisse de B : 2\n",
      "Entrer l'ordonnée de B : 6\n",
      "1.7071067811865475 3.1666666666666665\n"
     ]
    }
   ],
   "source": [
    "from math import*\n",
    "x_A = eval(input(\"Entrer l'abscisse de A : \"))\n",
    "y_A = eval(input(\"Entrer l'ordonnée de A : \"))\n",
    "x_B = eval(input(\"Entrer l'abscisse de B : \"))\n",
    "y_B = eval(input(\"Entrer l'ordonnée de B : \"))\n",
    "x_I = (x_A+x_B)/2\n",
    "y_I = (y_A+y_B)/2\n",
    "print(x_I,y_I)"
   ]
  },
  {
   "cell_type": "code",
   "execution_count": 8,
   "metadata": {},
   "outputs": [
    {
     "name": "stdout",
     "output_type": "stream",
     "text": [
      "Entrer l'abscisse de A : sqrt(2)\n",
      "Entrer l'ordonnée de A : 1/3\n",
      "Entrer l'abscisse de B : 2\n",
      "Entrer l'ordonnée de B : 6\n",
      "5.696863774184769\n"
     ]
    }
   ],
   "source": [
    "from math import*\n",
    "x_A = eval(input(\"Entrer l'abscisse de A : \"))\n",
    "y_A = eval(input(\"Entrer l'ordonnée de A : \"))\n",
    "x_B = eval(input(\"Entrer l'abscisse de B : \"))\n",
    "y_B = eval(input(\"Entrer l'ordonnée de B : \"))\n",
    "AB = sqrt((x_B-x_A)**2+(y_B-y_A)**2)\n",
    "print(AB)"
   ]
  },
  {
   "cell_type": "code",
   "execution_count": null,
   "metadata": {},
   "outputs": [],
   "source": []
  }
 ],
 "metadata": {
  "kernelspec": {
   "display_name": "Python 3",
   "language": "python",
   "name": "python3"
  },
  "language_info": {
   "codemirror_mode": {
    "name": "ipython",
    "version": 3
   },
   "file_extension": ".py",
   "mimetype": "text/x-python",
   "name": "python",
   "nbconvert_exporter": "python",
   "pygments_lexer": "ipython3",
   "version": "3.6.5"
  }
 },
 "nbformat": 4,
 "nbformat_minor": 2
}
