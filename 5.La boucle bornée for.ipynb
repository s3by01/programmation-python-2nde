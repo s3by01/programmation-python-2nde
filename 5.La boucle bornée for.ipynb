{
 "cells": [
  {
   "cell_type": "code",
   "execution_count": 1,
   "metadata": {},
   "outputs": [
    {
     "name": "stdout",
     "output_type": "stream",
     "text": [
      "5050\n"
     ]
    }
   ],
   "source": [
    "s = 0\n",
    "for i in range(101) :\n",
    "    s = i+s\n",
    "print(s)"
   ]
  },
  {
   "cell_type": "code",
   "execution_count": 2,
   "metadata": {},
   "outputs": [
    {
     "name": "stdout",
     "output_type": "stream",
     "text": [
      "16\n",
      "8.0\n",
      "4.0\n",
      "2.0\n",
      "1.0\n"
     ]
    }
   ],
   "source": [
    "n = 5\n",
    "nbre = 5\n",
    "for i in range(n) :\n",
    "    if nbre%2 == 0:\n",
    "        nbre = nbre/2\n",
    "    else:\n",
    "        nbre = 3*nbre+1\n",
    "    print(nbre)"
   ]
  },
  {
   "cell_type": "code",
   "execution_count": 3,
   "metadata": {},
   "outputs": [
    {
     "name": "stdout",
     "output_type": "stream",
     "text": [
      "5 x 1  =  5\n",
      "5 x 2  =  10\n",
      "5 x 3  =  15\n",
      "5 x 4  =  20\n",
      "5 x 5  =  25\n",
      "5 x 6  =  30\n",
      "5 x 7  =  35\n",
      "5 x 8  =  40\n",
      "5 x 9  =  45\n",
      "5 x 10  =  50\n"
     ]
    }
   ],
   "source": [
    "n,m=0,0\n",
    "for i in range(10):\n",
    "    n,m=n+5,m+1\n",
    "    print(\"5 x\", m, \" = \", n)"
   ]
  },
  {
   "cell_type": "code",
   "execution_count": 4,
   "metadata": {},
   "outputs": [
    {
     "name": "stdout",
     "output_type": "stream",
     "text": [
      "7206.19\n"
     ]
    }
   ],
   "source": [
    "prix = 35000\n",
    "for i in range (15) :\n",
    "    prix = 0.9*prix\n",
    "print(round(prix,2))"
   ]
  },
  {
   "cell_type": "code",
   "execution_count": 5,
   "metadata": {},
   "outputs": [
    {
     "name": "stdout",
     "output_type": "stream",
     "text": [
      "1\n",
      "2\n",
      "3\n",
      "4\n",
      "5\n",
      "6\n",
      "7\n",
      "8\n",
      "9\n",
      "10\n",
      "2\n",
      "4\n",
      "6\n",
      "8\n",
      "10\n",
      "12\n",
      "14\n",
      "16\n",
      "18\n",
      "20\n",
      "3\n",
      "6\n",
      "9\n",
      "12\n",
      "15\n",
      "18\n",
      "21\n",
      "24\n",
      "27\n",
      "30\n",
      "4\n",
      "8\n",
      "12\n",
      "16\n",
      "20\n",
      "24\n",
      "28\n",
      "32\n",
      "36\n",
      "40\n",
      "5\n",
      "10\n",
      "15\n",
      "20\n",
      "25\n",
      "30\n",
      "35\n",
      "40\n",
      "45\n",
      "50\n",
      "6\n",
      "12\n",
      "18\n",
      "24\n",
      "30\n",
      "36\n",
      "42\n",
      "48\n",
      "54\n",
      "60\n",
      "7\n",
      "14\n",
      "21\n",
      "28\n",
      "35\n",
      "42\n",
      "49\n",
      "56\n",
      "63\n",
      "70\n",
      "8\n",
      "16\n",
      "24\n",
      "32\n",
      "40\n",
      "48\n",
      "56\n",
      "64\n",
      "72\n",
      "80\n",
      "9\n",
      "18\n",
      "27\n",
      "36\n",
      "45\n",
      "54\n",
      "63\n",
      "72\n",
      "81\n",
      "90\n",
      "10\n",
      "20\n",
      "30\n",
      "40\n",
      "50\n",
      "60\n",
      "70\n",
      "80\n",
      "90\n",
      "100\n"
     ]
    }
   ],
   "source": [
    "n=11\n",
    "for i in range (1,n):\n",
    "    for j in range (1,n):\n",
    "        print(i*j)"
   ]
  },
  {
   "cell_type": "code",
   "execution_count": 6,
   "metadata": {},
   "outputs": [
    {
     "name": "stdout",
     "output_type": "stream",
     "text": [
      "1\n",
      "4\n",
      "9\n",
      "16\n",
      "25\n",
      "36\n",
      "49\n",
      "64\n",
      "81\n",
      "100\n"
     ]
    }
   ],
   "source": [
    "nb=0\n",
    "etage=0\n",
    "for i in range(10):\n",
    "    etage=etage+1\n",
    "    nb=etage**2\n",
    "    print(nb)"
   ]
  },
  {
   "cell_type": "code",
   "execution_count": 12,
   "metadata": {},
   "outputs": [
    {
     "name": "stdout",
     "output_type": "stream",
     "text": [
      "385\n"
     ]
    }
   ],
   "source": [
    "n=10\n",
    "nbre_oranges=0\n",
    "for i in range (10):\n",
    "    nbre_oranges = nbre_oranges + (n-i)**2\n",
    "print(nbre_oranges)"
   ]
  },
  {
   "cell_type": "code",
   "execution_count": 17,
   "metadata": {},
   "outputs": [
    {
     "name": "stdout",
     "output_type": "stream",
     "text": [
      "Le nombre de 'a' est : 2\n"
     ]
    }
   ],
   "source": [
    "phrase = \"J'aime les maths\"\n",
    "nbre_de_a = 0\n",
    "for lettre in phrase : \n",
    "    if lettre == \"a\":\n",
    "        nbre_de_a = nbre_de_a + 1\n",
    "print(\"Le nombre de 'a' est :\", nbre_de_a)"
   ]
  },
  {
   "cell_type": "code",
   "execution_count": 18,
   "metadata": {},
   "outputs": [
    {
     "name": "stdout",
     "output_type": "stream",
     "text": [
      "Le nombre de 'a' est : 3\n"
     ]
    }
   ],
   "source": [
    "phrase = \"Je vais à la plage\"\n",
    "nbre_de_a = 0\n",
    "for lettre in phrase : \n",
    "    if lettre == \"a\":\n",
    "        nbre_de_a = nbre_de_a + 1\n",
    "print(\"Le nombre de 'a' est :\", nbre_de_a)"
   ]
  },
  {
   "cell_type": "code",
   "execution_count": null,
   "metadata": {},
   "outputs": [],
   "source": []
  }
 ],
 "metadata": {
  "kernelspec": {
   "display_name": "Python 3",
   "language": "python",
   "name": "python3"
  },
  "language_info": {
   "codemirror_mode": {
    "name": "ipython",
    "version": 3
   },
   "file_extension": ".py",
   "mimetype": "text/x-python",
   "name": "python",
   "nbconvert_exporter": "python",
   "pygments_lexer": "ipython3",
   "version": "3.6.5"
  }
 },
 "nbformat": 4,
 "nbformat_minor": 2
}
