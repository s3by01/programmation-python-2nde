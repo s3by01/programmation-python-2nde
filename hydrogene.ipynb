{
 "cells": [
  {
   "cell_type": "markdown",
   "metadata": {},
   "source": [
    "Sébastien Fouilloux-Iaquinta &nbsp;&nbsp;&nbsp;&nbsp;&nbsp;&nbsp;&nbsp;&nbsp;&nbsp;&nbsp;&nbsp;&nbsp;&nbsp;&nbsp;&nbsp;&nbsp;&nbsp;&nbsp;&nbsp;&nbsp;&nbsp;&nbsp;&nbsp;&nbsp;&nbsp;&nbsp;&nbsp;&nbsp;&nbsp;&nbsp;&nbsp;&nbsp;&nbsp;&nbsp;&nbsp;&nbsp;&nbsp;&nbsp;&nbsp;&nbsp;&nbsp;&nbsp;&nbsp;&nbsp;&nbsp;&nbsp;&nbsp;&nbsp;&nbsp;&nbsp;&nbsp;&nbsp;&nbsp;&nbsp;&nbsp;&nbsp;&nbsp;&nbsp;&nbsp;&nbsp;\n",
    "&nbsp;&nbsp;&nbsp;&nbsp;&nbsp;&nbsp;&nbsp;&nbsp;&nbsp;&nbsp;&nbsp;&nbsp;&nbsp;&nbsp;&nbsp;&nbsp;&nbsp;&nbsp;&nbsp;&nbsp;&nbsp;&nbsp;&nbsp;&nbsp;&nbsp;&nbsp;&nbsp;&nbsp;&nbsp;&nbsp;&nbsp;&nbsp;&nbsp;&nbsp;&nbsp;&nbsp;&nbsp;&nbsp;&nbsp;&nbsp;&nbsp;&nbsp;&nbsp;&nbsp;&nbsp;&nbsp;&nbsp;&nbsp;&nbsp;&nbsp;&nbsp;&nbsp;&nbsp;&nbsp;&nbsp;&nbsp;&nbsp;&nbsp;&nbsp;&nbsp;\n",
    "&nbsp;&nbsp;&nbsp;&nbsp;&nbsp;&nbsp;&nbsp;&nbsp;&nbsp;&nbsp;&nbsp;&nbsp;&nbsp;&nbsp;&nbsp;&nbsp;&nbsp;\n",
    "&nbsp;&nbsp;&nbsp;&nbsp;&nbsp;&nbsp;&nbsp;&nbsp;&nbsp;&nbsp;&nbsp;&nbsp;&nbsp;&nbsp;&nbsp;&nbsp;&nbsp;&nbsp;&nbsp;&nbsp;&nbsp;&nbsp;&nbsp;&nbsp;&nbsp;&nbsp;&nbsp;&nbsp;&nbsp;&nbsp;&nbsp;&nbsp;&nbsp;&nbsp;&nbsp;&nbsp;&nbsp;&nbsp;&nbsp;&nbsp;&nbsp;&nbsp;&nbsp;&nbsp;&nbsp;&nbsp;&nbsp;&nbsp;\n",
    "2nde"
   ]
  },
  {
   "cell_type": "markdown",
   "metadata": {},
   "source": [
    "<br>\n",
    "\n",
    "|  Masse atomique            | Symbole      |  Élément |\n",
    "|----------------------------|--------------|----------|\n",
    "|  $$1.00794 u ± 0.00001 u$$ |   $$ H $$    | Hydrogène|"
   ]
  },
  {
   "cell_type": "markdown",
   "metadata": {},
   "source": [
    "\n",
    "**Étymologie**: préfixe « hydro », du grec « hudôr » (eau), et du suffixe « gène », du grec « gennan » (engendrer) → l’hydrogène forme de la vapeur d’eau en présence d’oxygène (d’où son sens étymologique: « formeur d’eau »)\n",
    "\n",
    "**Découverte**: Henry Cavendish présente sa découverte à la Société Royale de Londres en 1766.\n"
   ]
  },
  {
   "cell_type": "markdown",
   "metadata": {},
   "source": [
    "<table>\n",
    "  <tr>\n",
    "   <td>\n",
    "       <img src='https://fr.cdn.v5.futura-sciences.com/buildsv6/images/mediumoriginal/6/d/4/6d4c6e964b_31678_40730-pile-combustible.jpg' alt='pile a combustible'> \n",
    "   </td>\n",
    "        \n",
    "   <td>\n",
    "    <p>La pile à combustible est une pile où est générée une tension électrique grâce au transfert d'électrons. \n",
    "         Du dihydrogène perd des électrons sur une électrode et du dioxygène de l’air gagne des électrons sur une autre électrode.</p>\n",
    "<br>\n",
    "\n",
    "$\\left\\{\n",
    "\\begin{array}{ll}\n",
    "  H_2 = 2H^+ + 2e^- \\\\\n",
    "4H^+ + 4e^- + O_2 = 2H_2 + O_2 = 2H_2O\n",
    "\\end{array}\n",
    "\\right.$\n",
    "   </td>\n",
    "  </tr>\n",
    "  <tr>\n",
    "    <td>\n",
    "        <img src=\"https://upload.wikimedia.org/wikipedia/commons/thumb/4/4a/%22Ivy_Mike%22_atmospheric_nuclear_test_-_November_1952_-_Flickr_-_The_Official_CTBTO_Photostream.jpg/1024px-%22Ivy_Mike%22_atmospheric_nuclear_test_-_November_1952_-_Flickr_-_The_Official_CTBTO_Photostream.jpg\" alt=\"nuclear test\">\n",
    "    </td>\n",
    "    <td>\n",
    "        <p>Un essai nucléaire atmosphérique effectué par les États-Unis à l'atoll d'Enewetak le 1er novembre 1952. Il s'agissait de la première bombe à hydrogène au monde.</p>\n",
    "    </td>\n",
    "  </tr>\n",
    "  \n",
    "  <tr>\n",
    "    <td>\n",
    "        <img src=\"https://3iz4pu1r2cxqxc3i63gnhpmh-wpengine.netdna-ssl.com/wp-content/uploads/burning-with-mast.jpg\" alt=\"zeppelin\">\n",
    "    </td>\n",
    "    <td>\n",
    "        <p>\n",
    "            Le LZ 129 Hindenburg était un Zeppelin allemand rempli hydrogène, gaz hautement inflammable, due au refus des américains d’exporter l’hélium non-flammable.\n",
    "        </p>\n",
    "    </td>\n",
    "  </tr>\n",
    "</table>"
   ]
  },
  {
   "cell_type": "markdown",
   "metadata": {},
   "source": [
    "### Propriétés physico-chimiques\n",
    "\n",
    "- Densité très faible\n",
    "- Stabilité thermique\n",
    "- Faible réactivité à basse température"
   ]
  },
  {
   "cell_type": "markdown",
   "metadata": {},
   "source": [
    "### Entités chimiques\n",
    "\n",
    "- Molécule de dihydrogène $H_2$\n",
    "- Molécule d'eau $H_2O$\n",
    "- Molécule d'hydrocarbures $C_xH_y$"
   ]
  },
  {
   "cell_type": "markdown",
   "metadata": {},
   "source": [
    "### Sitographie\n",
    "\n",
    "- [Wikipedia \"l'hydrogène\"](https://fr.wikipedia.org/wiki/Hydrog%C3%A8ne#Propri%C3%A9t%C3%A9s_chimiques_et_compos%C3%A9s)\n",
    "- [Wiktionnaire \"l'hydrogène\"](https://fr.wiktionary.org/wiki/hydrogène)\n",
    "- [Encyclopedia Universalis \"hydrogène\"](https://www.universalis.fr/encyclopedie/hydrogene/3-proprietes-physiques/)\n",
    "- [Wikipedia \"la bombe H\"](https://fr.wikipedia.org/wiki/Bombe_H#Bombe_H_%C2%AB_propre_%C2%BB)\n",
    "- [Wikipedia \"Henry Cavendish\"](https://fr.wikipedia.org/wiki/Henry_Cavendish)\n",
    "- [Wikipedia \"la pile à combustible\"](https://fr.wikipedia.org/wiki/Pile_%C3%A0_combustible#Pile_%C3%A0_combustible_%C3%A0_hydrog%C3%A8ne)\n",
    "- [Youtube \"pile à combustible\"](https://www.youtube.com/watch?v=7ZzVwI5zwY0)\n",
    "- [Pile à combustible](https://fr.cdn.v5.futura-sciences.com/buildsv6/images/mediumoriginal/6/d/4/6d4c6e964b_31678_40730-pile-combustible.jpg)\n",
    "- [Wikipedia \"l'électrode\"](https://fr.wikipedia.org/wiki/%C3%89lectrode)\n",
    "- [Réaction d'oxydoréduction](https://fr.wikipedia.org/wiki/R%C3%A9action_d%27oxydor%C3%A9duction#Application_%C3%A0_la_r%C3%A9action_2_H2_+_O2_%E2%86%92_2_H2)\n",
    "- [Wikipedia \"Zeppelin\"](https://en.wikipedia.org/wiki/Zeppelin)"
   ]
  }
 ],
 "metadata": {
  "kernelspec": {
   "display_name": "Python 3",
   "language": "python",
   "name": "python3"
  },
  "language_info": {
   "codemirror_mode": {
    "name": "ipython",
    "version": 3
   },
   "file_extension": ".py",
   "mimetype": "text/x-python",
   "name": "python",
   "nbconvert_exporter": "python",
   "pygments_lexer": "ipython3",
   "version": "3.6.6"
  }
 },
 "nbformat": 4,
 "nbformat_minor": 2
}
